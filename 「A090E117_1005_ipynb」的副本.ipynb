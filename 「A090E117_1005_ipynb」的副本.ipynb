{
  "nbformat": 4,
  "nbformat_minor": 0,
  "metadata": {
    "colab": {
      "provenance": [],
      "collapsed_sections": []
    },
    "kernelspec": {
      "name": "python3",
      "display_name": "Python 3"
    },
    "language_info": {
      "name": "python"
    }
  },
  "cells": [
    {
      "cell_type": "markdown",
      "source": [
        "# HASH 雜湊函數\n",
        "- md5\n",
        "- sha1\n",
        "\n",
        "\n",
        "\n",
        "- linux指令\n",
        "- md5sum\n",
        "- Colab使用方式 : !md5sum 檔案名稱"
      ],
      "metadata": {
        "id": "Y82fcaiA4Bhq"
      }
    },
    {
      "cell_type": "code",
      "execution_count": null,
      "metadata": {
        "colab": {
          "base_uri": "https://localhost:8080/"
        },
        "id": "X1ckxy5r3PBj",
        "outputId": "45f80379-87d1-4ff6-f4dd-456571cedfdd"
      },
      "outputs": [
        {
          "output_type": "stream",
          "name": "stdout",
          "text": [
            "Usage: md5sum [OPTION]... [FILE]...\n",
            "Print or check MD5 (128-bit) checksums.\n",
            "\n",
            "With no FILE, or when FILE is -, read standard input.\n",
            "\n",
            "  -b, --binary         read in binary mode\n",
            "  -c, --check          read MD5 sums from the FILEs and check them\n",
            "      --tag            create a BSD-style checksum\n",
            "  -t, --text           read in text mode (default)\n",
            "\n",
            "The following five options are useful only when verifying checksums:\n",
            "      --ignore-missing  don't fail or report status for missing files\n",
            "      --quiet          don't print OK for each successfully verified file\n",
            "      --status         don't output anything, status code shows success\n",
            "      --strict         exit non-zero for improperly formatted checksum lines\n",
            "  -w, --warn           warn about improperly formatted checksum lines\n",
            "\n",
            "      --help     display this help and exit\n",
            "      --version  output version information and exit\n",
            "\n",
            "The sums are computed as described in RFC 1321.  When checking, the input\n",
            "should be a former output of this program.  The default mode is to print a\n",
            "line with checksum, a space, a character indicating input mode ('*' for binary,\n",
            "' ' for text or where binary is insignificant), and name for each FILE.\n",
            "\n",
            "GNU coreutils online help: <http://www.gnu.org/software/coreutils/>\n",
            "Full documentation at: <http://www.gnu.org/software/coreutils/md5sum>\n",
            "or available locally via: info '(coreutils) md5sum invocation'\n"
          ]
        }
      ],
      "source": [
        "!md5sum --help"
      ]
    },
    {
      "cell_type": "code",
      "source": [
        "!echo Isreo > 1005.txt"
      ],
      "metadata": {
        "id": "DkngeX_W3aFB"
      },
      "execution_count": null,
      "outputs": []
    },
    {
      "cell_type": "code",
      "source": [
        "!cat 1005.txt"
      ],
      "metadata": {
        "colab": {
          "base_uri": "https://localhost:8080/"
        },
        "id": "fhqQV5Hn3lZK",
        "outputId": "526d31c6-8458-4a29-d2ee-a04078ba5233"
      },
      "execution_count": 1,
      "outputs": [
        {
          "output_type": "stream",
          "name": "stdout",
          "text": [
            "cat: 1005.txt: No such file or directory\n"
          ]
        }
      ]
    },
    {
      "cell_type": "code",
      "source": [
        "!md5sum 1005.txt"
      ],
      "metadata": {
        "colab": {
          "base_uri": "https://localhost:8080/"
        },
        "id": "SXdikq8g3rqI",
        "outputId": "c0250c6d-8d89-4f57-8b46-833e72f8680f"
      },
      "execution_count": null,
      "outputs": [
        {
          "output_type": "stream",
          "name": "stdout",
          "text": [
            "e35ea17a34bbf4e55b3c1aecf158fd7c  1005.txt\n"
          ]
        }
      ]
    },
    {
      "cell_type": "code",
      "source": [
        "!echo isreo > 1005a.txt"
      ],
      "metadata": {
        "id": "MOQDpj3k3qFC"
      },
      "execution_count": 3,
      "outputs": []
    },
    {
      "cell_type": "code",
      "source": [
        "!cat 1005a.txt"
      ],
      "metadata": {
        "colab": {
          "base_uri": "https://localhost:8080/"
        },
        "id": "R4uYcVkn32Wl",
        "outputId": "c95349d6-9574-4010-c7f8-679e5cf67404"
      },
      "execution_count": 2,
      "outputs": [
        {
          "output_type": "stream",
          "name": "stdout",
          "text": [
            "cat: 1005a.txt: No such file or directory\n"
          ]
        }
      ]
    },
    {
      "cell_type": "code",
      "source": [
        "!md5sum 1005a.txt"
      ],
      "metadata": {
        "colab": {
          "base_uri": "https://localhost:8080/"
        },
        "id": "prBWuC4O36yx",
        "outputId": "6831dad8-fada-4ecc-9a63-e3307495b97a"
      },
      "execution_count": null,
      "outputs": [
        {
          "output_type": "stream",
          "name": "stdout",
          "text": [
            "2070c6e0d60347924196eecff7f4391a  1005a.txt\n"
          ]
        }
      ]
    }
  ]
}